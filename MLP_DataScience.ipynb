{
  "cells": [
    {
      "cell_type": "markdown",
      "metadata": {
        "id": "Q_V15pMucuYG"
      },
      "source": [
        "# Assignment 4. Deep Learning\n",
        "\n",
        "*Foundations of Data Science*  \n",
        "*Dr. Khalaj (Fall 2023)*  \n",
        "\n",
        "*For questions 2-4 refer to @alregamo on Telegram.*\n",
        "\n",
        "### Description  \n",
        "This homework consists of four questions, each aimed at one category in the world of Deep Learning.   \n",
        "1. Getting familiarized with sentiment analysis (A subject also covered in the course project).\n",
        "   \n",
        "2. Multi-layer perceptron (MLP). \n",
        "   \n",
        "3. Convolutional Neural Networks (CNN).\n",
        "   \n",
        "4. Variational Autoencoders (VAE).\n",
        "\n",
        "### Information  \n",
        "Complete the information box below."
      ]
    },
    {
      "cell_type": "markdown",
      "metadata": {
        "id": "uHa-LMgfcuYL"
      },
      "source": [
        "### Full Name : Parishad Mokhber \n",
        "### Student Number : 98100537\n",
        "__"
      ]
    },
    {
      "cell_type": "markdown",
      "metadata": {
        "id": "Hnkccv8vVT-o"
      },
      "source": [
        "## 2 Multi-layer Perceptron (MLP)"
      ]
    },
    {
      "cell_type": "markdown",
      "metadata": {
        "id": "A9Itv81cfTG4"
      },
      "source": [
        "**In this assignment you'll be working with Dorothea Dataset.**\n",
        "\n",
        "DOROTHEA is a drug discovery dataset. Chemical compounds represented by structural molecular features must be classified as active (binding to thrombin) or inactive.\n",
        "To find out more about dataset, refer to this link: https://archive.ics.uci.edu/ml/datasets/Dorothea\n",
        "\n",
        "You should implement a classifier with Neural Networks and for this purpose we will be using PyTorch as framework."
      ]
    },
    {
      "cell_type": "markdown",
      "metadata": {
        "id": "zqSzHiJuUh7V"
      },
      "source": [
        "# Importing libraries, modules and Dataset."
      ]
    },
    {
      "cell_type": "code",
      "execution_count": 1,
      "metadata": {
        "colab": {
          "base_uri": "https://localhost:8080/"
        },
        "id": "y1DCAfkRcuYO",
        "outputId": "fe716bce-8c9d-4760-b83a-6cac78a3819d"
      },
      "outputs": [
        {
          "name": "stdout",
          "output_type": "stream",
          "text": [
            "Looking in indexes: https://pypi.org/simple, https://us-python.pkg.dev/colab-wheels/public/simple/\n",
            "Requirement already satisfied: torch in /usr/local/lib/python3.10/dist-packages (2.0.1+cu118)\n",
            "Requirement already satisfied: filelock in /usr/local/lib/python3.10/dist-packages (from torch) (3.12.0)\n",
            "Requirement already satisfied: typing-extensions in /usr/local/lib/python3.10/dist-packages (from torch) (4.5.0)\n",
            "Requirement already satisfied: sympy in /usr/local/lib/python3.10/dist-packages (from torch) (1.11.1)\n",
            "Requirement already satisfied: networkx in /usr/local/lib/python3.10/dist-packages (from torch) (3.1)\n",
            "Requirement already satisfied: jinja2 in /usr/local/lib/python3.10/dist-packages (from torch) (3.1.2)\n",
            "Requirement already satisfied: triton==2.0.0 in /usr/local/lib/python3.10/dist-packages (from torch) (2.0.0)\n",
            "Requirement already satisfied: cmake in /usr/local/lib/python3.10/dist-packages (from triton==2.0.0->torch) (3.25.2)\n",
            "Requirement already satisfied: lit in /usr/local/lib/python3.10/dist-packages (from triton==2.0.0->torch) (16.0.5)\n",
            "Requirement already satisfied: MarkupSafe>=2.0 in /usr/local/lib/python3.10/dist-packages (from jinja2->torch) (2.1.2)\n",
            "Requirement already satisfied: mpmath>=0.19 in /usr/local/lib/python3.10/dist-packages (from sympy->torch) (1.3.0)\n"
          ]
        }
      ],
      "source": [
        "pip install torch"
      ]
    },
    {
      "cell_type": "markdown",
      "metadata": {
        "id": "TlMDVS1gV08L"
      },
      "source": [
        "In this part, import all the libraries and modules needed to solve the problem."
      ]
    },
    {
      "cell_type": "code",
      "execution_count": 1,
      "metadata": {
        "id": "WgjSY5BaViF2"
      },
      "outputs": [],
      "source": [
        "import matplotlib.pyplot as plt\n",
        "import pandas as pd\n",
        "import torch\n",
        "%matplotlib inline\n",
        "import os\n",
        "import random \n",
        "import torch \n",
        "import torch.nn as nn\n",
        "import numpy as np\n",
        "import time\n",
        "from torch.utils.data import DataLoader, TensorDataset\n",
        "import torch.nn.functional as F\n",
        "import sklearn"
      ]
    },
    {
      "cell_type": "markdown",
      "metadata": {
        "id": "RSBb23wYV2Ho"
      },
      "source": [
        "Now import the train and test data from dataset."
      ]
    },
    {
      "cell_type": "code",
      "execution_count": 2,
      "metadata": {
        "colab": {
          "base_uri": "https://localhost:8080/"
        },
        "id": "jNaH5szYV9Y4",
        "outputId": "b30ca33a-e98c-4801-87e5-22345273a063"
      },
      "outputs": [
        {
          "name": "stdout",
          "output_type": "stream",
          "text": [
            "(800, 100000)\n",
            "(800,)\n",
            "(350, 100000)\n",
            "(350,)\n"
          ]
        }
      ],
      "source": [
        "# Your code here\n",
        "def read_sparse(file_path , rows, cols):\n",
        "  matrix =np.zeros((rows, cols), dtype = int)\n",
        "  with open (file_path , 'r') as file:\n",
        "    for row_idx, line in enumerate(file):\n",
        "      column_indices = map(int, line.split())\n",
        "      matrix[row_idx , np.array(list(column_indices))-1] = 1\n",
        "      return matrix\n",
        "\n",
        "\n",
        "n_features = 100000\n",
        "train_count, test_count = 800, 350\n",
        "\n",
        "train_data = read_sparse('dorothea_train.data', train_count, n_features)\n",
        "train_labels = np.genfromtxt('dorothea_train.labels')\n",
        "test_data = read_sparse('dorothea_valid.data', test_count, n_features)\n",
        "test_labels = np.genfromtxt('dorothea_valid.labels')\n",
        "\n",
        "print(train_data.shape)\n",
        "print(train_labels.shape)\n",
        "\n",
        "print(test_data.shape)\n",
        "print(test_labels.shape)"
      ]
    },
    {
      "cell_type": "markdown",
      "metadata": {
        "id": "RgEJNhp_UiEa"
      },
      "source": [
        "## Normalize\n",
        "You can normalize your data using <code>Scikit-Learn</code> modules here."
      ]
    },
    {
      "cell_type": "code",
      "execution_count": 3,
      "metadata": {
        "id": "HPcemuTvcuYQ"
      },
      "outputs": [],
      "source": [
        "# Apply normalization here\n",
        "from sklearn import preprocessing\n",
        "\n",
        "scaler = preprocessing.StandardScaler().fit(train_data)\n",
        "train_data_scaled = scaler.transform(train_data)\n",
        "test_data_scaled = scaler.transform(test_data)"
      ]
    },
    {
      "cell_type": "markdown",
      "metadata": {
        "id": "pQVOozI3Gjdv"
      },
      "source": [
        "## Dimensionality Reduction\n",
        "There are too many attributes for each instance of dataset. We will suffer from sparse data and long training phase. Thus you can reduce dimensions to get better accuracy. \n",
        "\n",
        "Principal component analysis (PCA) is the process of computing the principal components and using them to perform a change of basis on the data.\n",
        "\n",
        "Apply PCA on Dorothea dataSet using <code>Scikit-Learn</code>."
      ]
    },
    {
      "cell_type": "code",
      "execution_count": 4,
      "metadata": {
        "id": "wrdakV-5ZsRP"
      },
      "outputs": [],
      "source": [
        "# Apply PCA here\n",
        "from sklearn.decomposition import SparsePCA\n",
        "pca = SparsePCA(n_components = 1000).fit(train_data_scaled)\n",
        "train_data_scaled_pca = pca.transform(train_data_scaled)\n",
        "test_data_scaled_pca = pca.transform(test_data_scaled)"
      ]
    },
    {
      "cell_type": "markdown",
      "metadata": {
        "id": "jFTEH0H23BtL"
      },
      "source": [
        "# Define Model\n",
        "\n"
      ]
    },
    {
      "cell_type": "code",
      "execution_count": 7,
      "metadata": {
        "id": "1z8_ahC_3S5f"
      },
      "outputs": [],
      "source": [
        "# Define your model in here\n",
        "# You can change the code below.\n",
        "\n",
        "class ClassifierModel(nn.Module):\n",
        "    def __init__(self):\n",
        "      super(ClassifierModel, self).__init__()\n",
        "      self.layer1 = nn.Linear(in_features= 1000, out_features= 500, bias = True)\n",
        "      self.layer2 = nn.Linear(in_features= 500, out_features= 100, bias = True)\n",
        "      self.layer3 = nn.Linear(in_features= 100, out_features=1, bias = True)\n",
        "      self.activation = nn.GELU()\n",
        "      self.dropout = nn.Dropout(p=0.5)\n",
        "      self.sigmoid = nn.Sigmoid()\n",
        "\n",
        "\n",
        "    def forward(self, x_input):\n",
        "        x_input = self.layer1(x_input)\n",
        "        x_input = self.activation(x_input)\n",
        "        #x_input = self.dropout(x_input)\n",
        "        x_input = self.layer2(x_input)\n",
        "        x_input = self.activation(x_input)\n",
        "        #x_input = self.dropout(x_input)\n",
        "        x_out = self.layer3(x_input)\n",
        "        x_out = self.sigmoid(x_out)\n",
        "\n",
        "        return x_out"
      ]
    },
    {
      "cell_type": "markdown",
      "metadata": {
        "id": "IGUFUbsw3n9A"
      },
      "source": [
        "# Train the model"
      ]
    },
    {
      "cell_type": "markdown",
      "metadata": {
        "id": "YDrS8le13n25"
      },
      "source": [
        "**Initialize model, define hyperparameters, optimizer, loss function, etc.**"
      ]
    },
    {
      "cell_type": "code",
      "execution_count": 8,
      "metadata": {
        "id": "YV0FgUYc4J-Y"
      },
      "outputs": [],
      "source": [
        "# Implement Train in here\n",
        "BATCH_SIZE = 16\n",
        "NUM_EPOCHS = 100\n",
        "\n",
        "DEVICE = torch.device('cuda:0' if torch.cuda.is_available() else 'cpu')\n",
        "criterion = nn.BCEWithLogitsLoss(pos_weight=torch.tensor(10))\n",
        "model = ClassifierModel().to(DEVICE)\n",
        "optimizer = torch.optim.AdamW(model.parameters(), lr = 0.001)"
      ]
    },
    {
      "cell_type": "code",
      "execution_count": 9,
      "metadata": {
        "id": "1nJTWyCEaCwE"
      },
      "outputs": [],
      "source": [
        "train_data_scaled_pca = torch.from_numpy(train_data_scaled_pca)\n",
        "train_labels = torch.from_numpy(train_labels)\n",
        "train_labels[train_labels == -1] = 0\n",
        "\n",
        "dataset = TensorDataset(train_data_scaled_pca.float(), train_labels.float().unsqueeze(1))\n",
        "train_loader = DataLoader(dataset, batch_size = BATCH_SIZE, shuffle=True, drop_last=True)"
      ]
    },
    {
      "cell_type": "code",
      "execution_count": 10,
      "metadata": {
        "colab": {
          "base_uri": "https://localhost:8080/"
        },
        "id": "jvT2GiIEbjRu",
        "outputId": "cb07199f-e82e-48b7-a899-0874fc39a487"
      },
      "outputs": [
        {
          "name": "stdout",
          "output_type": "stream",
          "text": [
            "Epoch [1/100], Loss: 1.3241492354869842\n",
            "Epoch [2/100], Loss: 1.303581336736679\n",
            "Epoch [3/100], Loss: 1.3017917799949645\n",
            "Epoch [4/100], Loss: 1.3014895868301393\n",
            "Epoch [5/100], Loss: 1.3023951745033264\n",
            "Epoch [6/100], Loss: 1.3019206535816192\n",
            "Epoch [7/100], Loss: 1.3016401541233062\n",
            "Epoch [8/100], Loss: 1.3015209102630616\n",
            "Epoch [9/100], Loss: 1.3016102635860443\n",
            "Epoch [10/100], Loss: 1.3015898013114928\n",
            "Epoch [11/100], Loss: 1.3045800948143005\n",
            "Epoch [12/100], Loss: 1.3022404265403749\n",
            "Epoch [13/100], Loss: 1.3017869734764098\n",
            "Epoch [14/100], Loss: 1.3013469886779785\n",
            "Epoch [15/100], Loss: 1.3022682893276214\n",
            "Epoch [16/100], Loss: 1.3026438283920287\n",
            "Epoch [17/100], Loss: 1.3028538823127747\n",
            "Epoch [18/100], Loss: 1.301719044446945\n",
            "Epoch [19/100], Loss: 1.301450445652008\n",
            "Epoch [20/100], Loss: 1.3049579894542693\n",
            "Epoch [21/100], Loss: 1.3020840525627135\n",
            "Epoch [22/100], Loss: 1.3021681606769562\n",
            "Epoch [23/100], Loss: 1.301846981048584\n",
            "Epoch [24/100], Loss: 1.3017774975299836\n",
            "Epoch [25/100], Loss: 1.3017382979393006\n",
            "Epoch [26/100], Loss: 1.3030970001220703\n",
            "Epoch [27/100], Loss: 1.3022476518154145\n",
            "Epoch [28/100], Loss: 1.3020700335502624\n",
            "Epoch [29/100], Loss: 1.301981099843979\n",
            "Epoch [30/100], Loss: 1.3015066921710967\n",
            "Epoch [31/100], Loss: 1.3015943896770477\n",
            "Epoch [32/100], Loss: 1.3016631126403808\n",
            "Epoch [33/100], Loss: 1.3027957224845885\n",
            "Epoch [34/100], Loss: 1.3018004870414734\n",
            "Epoch [35/100], Loss: 1.3069468986988069\n",
            "Epoch [36/100], Loss: 1.3016044390201569\n",
            "Epoch [37/100], Loss: 1.3019950020313262\n",
            "Epoch [38/100], Loss: 1.3019383227825165\n",
            "Epoch [39/100], Loss: 1.3016069793701173\n",
            "Epoch [40/100], Loss: 1.3017579054832458\n",
            "Epoch [41/100], Loss: 1.3030364680290223\n",
            "Epoch [42/100], Loss: 1.3019291985034942\n",
            "Epoch [43/100], Loss: 1.3015784990787507\n",
            "Epoch [44/100], Loss: 1.3022624337673188\n",
            "Epoch [45/100], Loss: 1.3013160860538482\n",
            "Epoch [46/100], Loss: 1.3018893456459046\n",
            "Epoch [47/100], Loss: 1.3015297150611878\n",
            "Epoch [48/100], Loss: 1.301969779729843\n",
            "Epoch [49/100], Loss: 1.3025546145439149\n",
            "Epoch [50/100], Loss: 1.3012649464607238\n",
            "Epoch [51/100], Loss: 1.3013919413089752\n",
            "Epoch [52/100], Loss: 1.302227783203125\n",
            "Epoch [53/100], Loss: 1.3026293456554412\n",
            "Epoch [54/100], Loss: 1.3014681625366211\n",
            "Epoch [55/100], Loss: 1.3018376898765565\n",
            "Epoch [56/100], Loss: 1.3019827485084534\n",
            "Epoch [57/100], Loss: 1.301494575738907\n",
            "Epoch [58/100], Loss: 1.3016664803028106\n",
            "Epoch [59/100], Loss: 1.3012320363521577\n",
            "Epoch [60/100], Loss: 1.3011602127552033\n",
            "Epoch [61/100], Loss: 1.3036843574047088\n",
            "Epoch [62/100], Loss: 1.3019367969036102\n",
            "Epoch [63/100], Loss: 1.3012662792205811\n",
            "Epoch [64/100], Loss: 1.3014558446407318\n",
            "Epoch [65/100], Loss: 1.3014193344116212\n",
            "Epoch [66/100], Loss: 1.3014901602268218\n",
            "Epoch [67/100], Loss: 1.3019872963428498\n",
            "Epoch [68/100], Loss: 1.3013515627384187\n",
            "Epoch [69/100], Loss: 1.3011224484443664\n",
            "Epoch [70/100], Loss: 1.3022075700759888\n",
            "Epoch [71/100], Loss: 1.3010852217674256\n",
            "Epoch [72/100], Loss: 1.3016282773017884\n",
            "Epoch [73/100], Loss: 1.30116393327713\n",
            "Epoch [74/100], Loss: 1.3019506406784058\n",
            "Epoch [75/100], Loss: 1.302127972841263\n",
            "Epoch [76/100], Loss: 1.3031100535392761\n",
            "Epoch [77/100], Loss: 1.3021545100212097\n",
            "Epoch [78/100], Loss: 1.3013115704059601\n",
            "Epoch [79/100], Loss: 1.3014042448997498\n",
            "Epoch [80/100], Loss: 1.3017116379737854\n",
            "Epoch [81/100], Loss: 1.3012231826782226\n",
            "Epoch [82/100], Loss: 1.302403290271759\n",
            "Epoch [83/100], Loss: 1.3023554217815398\n",
            "Epoch [84/100], Loss: 1.3013459944725037\n",
            "Epoch [85/100], Loss: 1.3014288640022278\n",
            "Epoch [86/100], Loss: 1.3013035690784454\n",
            "Epoch [87/100], Loss: 1.3014919233322144\n",
            "Epoch [88/100], Loss: 1.30114661693573\n",
            "Epoch [89/100], Loss: 1.3020589470863342\n",
            "Epoch [90/100], Loss: 1.3022776520252228\n",
            "Epoch [91/100], Loss: 1.3014641356468202\n",
            "Epoch [92/100], Loss: 1.301300743818283\n",
            "Epoch [93/100], Loss: 1.3013482105731964\n",
            "Epoch [94/100], Loss: 1.30161026597023\n",
            "Epoch [95/100], Loss: 1.3011187899112702\n",
            "Epoch [96/100], Loss: 1.3011176311969757\n",
            "Epoch [97/100], Loss: 1.3017931067943573\n",
            "Epoch [98/100], Loss: 1.3013012886047364\n",
            "Epoch [99/100], Loss: 1.301917313337326\n",
            "Epoch [100/100], Loss: 1.3011155223846436\n"
          ]
        }
      ],
      "source": [
        "loss_list = []\n",
        "model.train()\n",
        "\n",
        "for epoch in range(NUM_EPOCHS):\n",
        "    loss_epoch = 0.0\n",
        "    \n",
        "    for i, (X, y) in enumerate(train_loader):\n",
        "        X = X.to(DEVICE)\n",
        "        y = y.to(DEVICE)\n",
        "        outputs = model(X)\n",
        "        loss = criterion(outputs, y)\n",
        "\n",
        "        optimizer.zero_grad()\n",
        "        loss.backward()\n",
        "        optimizer.step()\n",
        "        loss_epoch += loss.item()\n",
        "    \n",
        "    loss_epoch = loss_epoch/len(train_loader)\n",
        "    print ('Epoch [{}/{}], Loss: {}'.format(epoch+1, NUM_EPOCHS, loss_epoch))\n",
        "    loss_list.append(loss_epoch)"
      ]
    },
    {
      "cell_type": "markdown",
      "metadata": {
        "id": "L2Fnamnk4LTV"
      },
      "source": [
        "**After the training process, plot metrics such as loss function values.**"
      ]
    },
    {
      "cell_type": "code",
      "execution_count": 25,
      "metadata": {
        "colab": {
          "base_uri": "https://localhost:8080/",
          "height": 448
        },
        "id": "3br2A_3x7tLY",
        "outputId": "67dcc6b2-c033-4664-cee7-886ea94898e3"
      },
      "outputs": [
        {
          "data": {
            "image/png": "[encoded data removed]",
            "text/plain": [
              "<Figure size 640x480 with 1 Axes>"
            ]
          },
          "metadata": {},
          "output_type": "display_data"
        }
      ],
      "source": [
        "# Plot in here\n",
        "plt.plot(loss_list)\n",
        "plt.xlabel('Num of Epoch')\n",
        "plt.ylabel('Training Loss');"
      ]
    },
    {
      "cell_type": "markdown",
      "metadata": {
        "id": "vbwXdL9Ph2jD"
      },
      "source": [
        "# Testing\n",
        "After training, test your model on test dataset and compute performance metrics. "
      ]
    },
    {
      "cell_type": "code",
      "execution_count": 11,
      "metadata": {
        "colab": {
          "base_uri": "https://localhost:8080/"
        },
        "id": "hzuhWfc3ia5s",
        "outputId": "0e317d2e-43c4-4e57-f061-af27bc5905a4"
      },
      "outputs": [],
      "source": [
        "# Implement Test in here\n",
        "test_data_scaled_pca = torch.from_numpy(test_data_scaled_pca)\n",
        "test_labels = torch.from_numpy(test_labels)\n",
        "test_labels[test_labels == -1] = 0"
      ]
    },
    {
      "cell_type": "code",
      "execution_count": 12,
      "metadata": {},
      "outputs": [
        {
          "name": "stdout",
          "output_type": "stream",
          "text": [
            "Accuracy on the test samples: 90.0 %\n"
          ]
        }
      ],
      "source": [
        "dataset_test = TensorDataset(test_data_scaled_pca.float(), test_labels.float().unsqueeze(1))\n",
        "test_loader = DataLoader(dataset_test, batch_size = len(test_labels), shuffle=True)\n",
        "\n",
        "model.eval()\n",
        "\n",
        "with torch.no_grad():\n",
        "  correct = 0\n",
        "  total = 0\n",
        "  for i, (X, y) in enumerate(test_loader):\n",
        "        X = X.to(DEVICE)\n",
        "        y = y.to(DEVICE)\n",
        "        outputs = model(X)\n",
        "\n",
        "        y_pred = torch.round(outputs)\n",
        "\n",
        "        total += y.size(0)\n",
        "        correct += (y_pred == y).sum().item()\n",
        "\n",
        "\n",
        "print('Accuracy on the test samples: {} %'.format(100 * correct / total)) "
      ]
    },
    {
      "cell_type": "markdown",
      "metadata": {
        "id": "vqQpZsTEh2gL"
      },
      "source": [
        "Show confusion matrix of your model."
      ]
    },
    {
      "cell_type": "code",
      "execution_count": 13,
      "metadata": {
        "colab": {
          "base_uri": "https://localhost:8080/",
          "height": 448
        },
        "id": "Kl9VOLgdiFMg",
        "outputId": "de64c735-be24-4b38-de55-b274c06749fa"
      },
      "outputs": [
        {
          "data": {
            "image/png": "[encoded data removed]",
            "text/plain": [
              "<Figure size 640x480 with 2 Axes>"
            ]
          },
          "metadata": {},
          "output_type": "display_data"
        }
      ],
      "source": [
        "# Print your confusion matrix here.\n",
        "from sklearn.metrics import confusion_matrix, ConfusionMatrixDisplay\n",
        "\n",
        "cm = confusion_matrix(test_labels.cpu(), y_pred.cpu())\n",
        "disp = ConfusionMatrixDisplay(cm)\n",
        "disp.plot();"
      ]
    }
  ],
  "metadata": {
    "accelerator": "GPU",
    "colab": {
      "gpuType": "T4",
      "provenance": []
    },
    "kernelspec": {
      "display_name": "Python 3",
      "name": "python3"
    },
    "language_info": {
      "codemirror_mode": {
        "name": "ipython",
        "version": 3
      },
      "file_extension": ".py",
      "mimetype": "text/x-python",
      "name": "python",
      "nbconvert_exporter": "python",
      "pygments_lexer": "ipython3",
      "version": "3.11.7"
    }
  },
  "nbformat": 4,
  "nbformat_minor": 0
}
